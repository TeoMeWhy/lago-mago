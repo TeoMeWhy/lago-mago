{
 "cells": [
  {
   "cell_type": "code",
   "execution_count": 0,
   "metadata": {
    "application/vnd.databricks.v1+cell": {
     "cellMetadata": {
      "byteLimit": 2048000,
      "rowLimit": 10000
     },
     "inputWidgets": {},
     "nuid": "08d32573-1e2c-464a-a7d2-691777fdb326",
     "showTitle": true,
     "title": "IMPORTS"
    }
   },
   "outputs": [],
   "source": [
    "# dbutils.library.restartPython()\n",
    "\n",
    "import tqdm\n",
    "import sys\n",
    "import datetime\n",
    "\n",
    "sys.path.insert(0, \"../lib\")\n",
    "\n",
    "import utils\n",
    "import ingestors"
   ]
  },
  {
   "cell_type": "code",
   "execution_count": 0,
   "metadata": {
    "application/vnd.databricks.v1+cell": {
     "cellMetadata": {},
     "inputWidgets": {},
     "nuid": "77e72b06-4150-4803-b6ae-be2b8864683c",
     "showTitle": true,
     "title": "SETUP"
    }
   },
   "outputs": [],
   "source": [
    "catalog = \"gold\"\n",
    "schemaname = 'upsell'\n",
    "tablename = dbutils.widgets.get(\"tablename\")\n",
    "\n",
    "start = dbutils.widgets.get(\"dt_start\") # now\n",
    "stop = dbutils.widgets.get(\"dt_stop\") # now\n",
    "\n",
    "if start == datetime.datetime.now().strftime('%Y-%m-%d'):\n",
    "    dt_start = datetime.datetime.now() - datetime.timedelta(days=1)\n",
    "else:\n",
    "    dt_start = datetime.strptime(start, '%Y-%m-%d')    \n",
    "\n",
    "dt_stop = datetime.strptime(stop, '%Y-%m-%d')"
   ]
  },
  {
   "cell_type": "code",
   "execution_count": 0,
   "metadata": {
    "application/vnd.databricks.v1+cell": {
     "cellMetadata": {
      "byteLimit": 2048000,
      "implicitDf": true,
      "rowLimit": 10000
     },
     "inputWidgets": {},
     "nuid": "f6975fe5-34e3-4b80-93fa-5c43ac282245",
     "showTitle": false,
     "title": ""
    }
   },
   "outputs": [],
   "source": [
    "ingestor = ingestors.IngestorCubo(spark=spark,\n",
    "                                  catalog=catalog,\n",
    "                                  schemaname=schemaname,\n",
    "                                  tablename=tablename)\n",
    "\n",
    "ingestor.backfill(dt_start, dt_stop)"
   ]
  }
 ],
 "metadata": {
  "application/vnd.databricks.v1+notebook": {
   "dashboards": [],
   "environmentMetadata": null,
   "language": "python",
   "notebookMetadata": {
    "mostRecentlyExecutedCommandWithImplicitDF": {
     "commandId": -1,
     "dataframes": [
      "_sqldf"
     ]
    },
    "pythonIndentUnit": 4
   },
   "notebookName": "ingestao",
   "widgets": {}
  }
 },
 "nbformat": 4,
 "nbformat_minor": 0
}
